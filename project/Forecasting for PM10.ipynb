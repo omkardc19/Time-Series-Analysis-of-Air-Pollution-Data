{
 "cells": [
  {
   "cell_type": "markdown",
   "id": "1fe5e4a8",
   "metadata": {},
   "source": [
    "## Prediction Analysis for 'PM10' data"
   ]
  },
  {
   "cell_type": "markdown",
   "id": "4909bc8b",
   "metadata": {},
   "source": [
    "Here we will apply ARIMA modelling to predict the future data for PM10 concentration."
   ]
  },
  {
   "cell_type": "code",
   "execution_count": 1,
   "id": "6fb17134",
   "metadata": {
    "scrolled": true
   },
   "outputs": [
    {
     "name": "stdout",
     "output_type": "stream",
     "text": [
      "Defaulting to user installation because normal site-packages is not writeable\n",
      "Requirement already satisfied: pmdarima in c:\\programdata\\anaconda3\\lib\\site-packages (2.0.3)\n",
      "Requirement already satisfied: statsmodels>=0.13.2 in c:\\programdata\\anaconda3\\lib\\site-packages (from pmdarima) (0.13.5)\n",
      "Requirement already satisfied: setuptools!=50.0.0,>=38.6.0 in c:\\programdata\\anaconda3\\lib\\site-packages (from pmdarima) (65.6.3)\n",
      "Requirement already satisfied: scikit-learn>=0.22 in c:\\programdata\\anaconda3\\lib\\site-packages (from pmdarima) (1.2.1)\n",
      "Requirement already satisfied: pandas>=0.19 in c:\\programdata\\anaconda3\\lib\\site-packages (from pmdarima) (1.5.3)\n",
      "Requirement already satisfied: urllib3 in c:\\programdata\\anaconda3\\lib\\site-packages (from pmdarima) (1.26.14)\n",
      "Requirement already satisfied: Cython!=0.29.18,!=0.29.31,>=0.29 in c:\\programdata\\anaconda3\\lib\\site-packages (from pmdarima) (0.29.35)\n",
      "Requirement already satisfied: joblib>=0.11 in c:\\programdata\\anaconda3\\lib\\site-packages (from pmdarima) (1.1.1)\n",
      "Requirement already satisfied: scipy>=1.3.2 in c:\\programdata\\anaconda3\\lib\\site-packages (from pmdarima) (1.10.0)\n",
      "Requirement already satisfied: numpy>=1.21.2 in c:\\programdata\\anaconda3\\lib\\site-packages (from pmdarima) (1.23.5)\n",
      "Requirement already satisfied: python-dateutil>=2.8.1 in c:\\programdata\\anaconda3\\lib\\site-packages (from pandas>=0.19->pmdarima) (2.8.2)\n",
      "Requirement already satisfied: pytz>=2020.1 in c:\\programdata\\anaconda3\\lib\\site-packages (from pandas>=0.19->pmdarima) (2022.7)\n",
      "Requirement already satisfied: threadpoolctl>=2.0.0 in c:\\programdata\\anaconda3\\lib\\site-packages (from scikit-learn>=0.22->pmdarima) (2.2.0)\n",
      "Requirement already satisfied: packaging>=21.3 in c:\\programdata\\anaconda3\\lib\\site-packages (from statsmodels>=0.13.2->pmdarima) (22.0)\n",
      "Requirement already satisfied: patsy>=0.5.2 in c:\\programdata\\anaconda3\\lib\\site-packages (from statsmodels>=0.13.2->pmdarima) (0.5.3)\n",
      "Requirement already satisfied: six in c:\\programdata\\anaconda3\\lib\\site-packages (from patsy>=0.5.2->statsmodels>=0.13.2->pmdarima) (1.16.0)\n"
     ]
    }
   ],
   "source": [
    "!pip install pmdarima"
   ]
  },
  {
   "cell_type": "code",
   "execution_count": 2,
   "id": "b7b4e0f3",
   "metadata": {},
   "outputs": [],
   "source": [
    "import numpy as np\n",
    "import statsmodels.api as sm\n",
    "import matplotlib.pyplot as plt\n",
    "%matplotlib inline\n",
    "import pandas as pd\n",
    "import pandas.plotting\n",
    "from statsmodels.graphics.tsaplots import plot_acf, plot_pacf \n",
    "%matplotlib inline"
   ]
  },
  {
   "cell_type": "code",
   "execution_count": 3,
   "id": "3d94b761",
   "metadata": {},
   "outputs": [],
   "source": [
    "file_path = 'C:/Users/Omkar/Desktop/EE798Q/Open pit blasting 01-02-2023 000000 To 01-05-2023 235959.csv'\n",
    "\n",
    "# Read the CSV file into a DataFrame\n",
    "df = pd.read_csv(file_path , index_col=0)"
   ]
  },
  {
   "cell_type": "code",
   "execution_count": 4,
   "id": "7c0c19e1",
   "metadata": {},
   "outputs": [
    {
     "data": {
      "text/html": [
       "<div>\n",
       "<style scoped>\n",
       "    .dataframe tbody tr th:only-of-type {\n",
       "        vertical-align: middle;\n",
       "    }\n",
       "\n",
       "    .dataframe tbody tr th {\n",
       "        vertical-align: top;\n",
       "    }\n",
       "\n",
       "    .dataframe thead th {\n",
       "        text-align: right;\n",
       "    }\n",
       "</style>\n",
       "<table border=\"1\" class=\"dataframe\">\n",
       "  <thead>\n",
       "    <tr style=\"text-align: right;\">\n",
       "      <th></th>\n",
       "      <th>from</th>\n",
       "      <th>PM10</th>\n",
       "      <th>PM2.5</th>\n",
       "      <th>NO</th>\n",
       "      <th>NO2</th>\n",
       "      <th>NOX</th>\n",
       "      <th>CO</th>\n",
       "      <th>SO2</th>\n",
       "      <th>NH3</th>\n",
       "      <th>Ozone</th>\n",
       "      <th>Benzene</th>\n",
       "    </tr>\n",
       "    <tr>\n",
       "      <th>#</th>\n",
       "      <th></th>\n",
       "      <th></th>\n",
       "      <th></th>\n",
       "      <th></th>\n",
       "      <th></th>\n",
       "      <th></th>\n",
       "      <th></th>\n",
       "      <th></th>\n",
       "      <th></th>\n",
       "      <th></th>\n",
       "      <th></th>\n",
       "    </tr>\n",
       "  </thead>\n",
       "  <tbody>\n",
       "    <tr>\n",
       "      <th>8636</th>\n",
       "      <td>2023-05-01 22:45:00</td>\n",
       "      <td>19.0</td>\n",
       "      <td>11.0</td>\n",
       "      <td>17.9</td>\n",
       "      <td>100.0</td>\n",
       "      <td>67.8</td>\n",
       "      <td>0.63</td>\n",
       "      <td>10.0</td>\n",
       "      <td>10.7</td>\n",
       "      <td>26.1</td>\n",
       "      <td>0.1</td>\n",
       "    </tr>\n",
       "    <tr>\n",
       "      <th>8637</th>\n",
       "      <td>2023-05-01 23:00:00</td>\n",
       "      <td>19.0</td>\n",
       "      <td>11.0</td>\n",
       "      <td>17.9</td>\n",
       "      <td>100.0</td>\n",
       "      <td>67.7</td>\n",
       "      <td>0.57</td>\n",
       "      <td>10.0</td>\n",
       "      <td>10.4</td>\n",
       "      <td>30.9</td>\n",
       "      <td>0.1</td>\n",
       "    </tr>\n",
       "    <tr>\n",
       "      <th>8638</th>\n",
       "      <td>2023-05-01 23:15:00</td>\n",
       "      <td>19.0</td>\n",
       "      <td>11.0</td>\n",
       "      <td>19.6</td>\n",
       "      <td>100.2</td>\n",
       "      <td>69.2</td>\n",
       "      <td>0.58</td>\n",
       "      <td>9.9</td>\n",
       "      <td>10.5</td>\n",
       "      <td>29.6</td>\n",
       "      <td>0.1</td>\n",
       "    </tr>\n",
       "    <tr>\n",
       "      <th>8639</th>\n",
       "      <td>2023-05-01 23:30:00</td>\n",
       "      <td>19.0</td>\n",
       "      <td>11.0</td>\n",
       "      <td>20.8</td>\n",
       "      <td>100.2</td>\n",
       "      <td>70.2</td>\n",
       "      <td>0.58</td>\n",
       "      <td>9.5</td>\n",
       "      <td>10.8</td>\n",
       "      <td>30.0</td>\n",
       "      <td>0.1</td>\n",
       "    </tr>\n",
       "    <tr>\n",
       "      <th>8640</th>\n",
       "      <td>2023-05-01 23:45:00</td>\n",
       "      <td>32.0</td>\n",
       "      <td>6.0</td>\n",
       "      <td>21.8</td>\n",
       "      <td>98.8</td>\n",
       "      <td>70.3</td>\n",
       "      <td>NaN</td>\n",
       "      <td>NaN</td>\n",
       "      <td>11.0</td>\n",
       "      <td>33.5</td>\n",
       "      <td>0.1</td>\n",
       "    </tr>\n",
       "  </tbody>\n",
       "</table>\n",
       "</div>"
      ],
      "text/plain": [
       "                     from  PM10  PM2.5    NO    NO2   NOX    CO   SO2   NH3  \\\n",
       "#                                                                             \n",
       "8636  2023-05-01 22:45:00  19.0   11.0  17.9  100.0  67.8  0.63  10.0  10.7   \n",
       "8637  2023-05-01 23:00:00  19.0   11.0  17.9  100.0  67.7  0.57  10.0  10.4   \n",
       "8638  2023-05-01 23:15:00  19.0   11.0  19.6  100.2  69.2  0.58   9.9  10.5   \n",
       "8639  2023-05-01 23:30:00  19.0   11.0  20.8  100.2  70.2  0.58   9.5  10.8   \n",
       "8640  2023-05-01 23:45:00  32.0    6.0  21.8   98.8  70.3   NaN   NaN  11.0   \n",
       "\n",
       "      Ozone  Benzene  \n",
       "#                     \n",
       "8636   26.1      0.1  \n",
       "8637   30.9      0.1  \n",
       "8638   29.6      0.1  \n",
       "8639   30.0      0.1  \n",
       "8640   33.5      0.1  "
      ]
     },
     "execution_count": 4,
     "metadata": {},
     "output_type": "execute_result"
    }
   ],
   "source": [
    "# Simplify column names\n",
    "df.columns = ['from', 'to', 'PM10', 'PM2.5', 'NO','NO2','NOX','CO','SO2','NH3','Ozone','Benzene']\n",
    "# deleting to column as we need only one timestamp column for to be index and we choose it to be from column\n",
    "df = df.drop('to', axis=1)\n",
    "# removing last 3 rows as they contaion max , min , avg data instead of actual observations\n",
    "df = df.iloc[:-3]\n",
    "df.tail()\n"
   ]
  },
  {
   "cell_type": "code",
   "execution_count": 5,
   "id": "129933d9",
   "metadata": {},
   "outputs": [],
   "source": [
    "# conveting timestamp as a string object into a datetime numerical \n",
    "date_format = '%Y-%m-%d %H:%M:%S'\n",
    "\n",
    "# Convert the 'from' column to numerical datetime representation\n",
    "df['from'] = pd.to_datetime(df['from'], format=date_format)\n"
   ]
  },
  {
   "cell_type": "code",
   "execution_count": 6,
   "id": "88365c93",
   "metadata": {},
   "outputs": [
    {
     "data": {
      "text/html": [
       "<div>\n",
       "<style scoped>\n",
       "    .dataframe tbody tr th:only-of-type {\n",
       "        vertical-align: middle;\n",
       "    }\n",
       "\n",
       "    .dataframe tbody tr th {\n",
       "        vertical-align: top;\n",
       "    }\n",
       "\n",
       "    .dataframe thead th {\n",
       "        text-align: right;\n",
       "    }\n",
       "</style>\n",
       "<table border=\"1\" class=\"dataframe\">\n",
       "  <thead>\n",
       "    <tr style=\"text-align: right;\">\n",
       "      <th></th>\n",
       "      <th>PM10</th>\n",
       "      <th>PM2.5</th>\n",
       "      <th>NO</th>\n",
       "      <th>NO2</th>\n",
       "      <th>NOX</th>\n",
       "      <th>CO</th>\n",
       "      <th>SO2</th>\n",
       "      <th>NH3</th>\n",
       "      <th>Ozone</th>\n",
       "      <th>Benzene</th>\n",
       "    </tr>\n",
       "    <tr>\n",
       "      <th>from</th>\n",
       "      <th></th>\n",
       "      <th></th>\n",
       "      <th></th>\n",
       "      <th></th>\n",
       "      <th></th>\n",
       "      <th></th>\n",
       "      <th></th>\n",
       "      <th></th>\n",
       "      <th></th>\n",
       "      <th></th>\n",
       "    </tr>\n",
       "  </thead>\n",
       "  <tbody>\n",
       "    <tr>\n",
       "      <th>2023-02-01 00:00:00</th>\n",
       "      <td>95.0</td>\n",
       "      <td>35.0</td>\n",
       "      <td>NaN</td>\n",
       "      <td>90.1</td>\n",
       "      <td>56.2</td>\n",
       "      <td>0.31</td>\n",
       "      <td>NaN</td>\n",
       "      <td>17.7</td>\n",
       "      <td>28.1</td>\n",
       "      <td>0.4</td>\n",
       "    </tr>\n",
       "    <tr>\n",
       "      <th>2023-02-01 00:15:00</th>\n",
       "      <td>95.0</td>\n",
       "      <td>35.0</td>\n",
       "      <td>NaN</td>\n",
       "      <td>88.0</td>\n",
       "      <td>55.1</td>\n",
       "      <td>0.33</td>\n",
       "      <td>NaN</td>\n",
       "      <td>18.3</td>\n",
       "      <td>27.1</td>\n",
       "      <td>0.4</td>\n",
       "    </tr>\n",
       "    <tr>\n",
       "      <th>2023-02-01 00:30:00</th>\n",
       "      <td>95.0</td>\n",
       "      <td>35.0</td>\n",
       "      <td>NaN</td>\n",
       "      <td>87.7</td>\n",
       "      <td>55.2</td>\n",
       "      <td>0.38</td>\n",
       "      <td>NaN</td>\n",
       "      <td>19.7</td>\n",
       "      <td>24.9</td>\n",
       "      <td>0.4</td>\n",
       "    </tr>\n",
       "    <tr>\n",
       "      <th>2023-02-01 00:45:00</th>\n",
       "      <td>122.0</td>\n",
       "      <td>34.0</td>\n",
       "      <td>NaN</td>\n",
       "      <td>88.9</td>\n",
       "      <td>55.7</td>\n",
       "      <td>0.38</td>\n",
       "      <td>NaN</td>\n",
       "      <td>21.3</td>\n",
       "      <td>21.9</td>\n",
       "      <td>0.4</td>\n",
       "    </tr>\n",
       "    <tr>\n",
       "      <th>2023-02-01 01:00:00</th>\n",
       "      <td>122.0</td>\n",
       "      <td>34.0</td>\n",
       "      <td>NaN</td>\n",
       "      <td>90.0</td>\n",
       "      <td>55.8</td>\n",
       "      <td>0.38</td>\n",
       "      <td>NaN</td>\n",
       "      <td>22.3</td>\n",
       "      <td>16.7</td>\n",
       "      <td>0.4</td>\n",
       "    </tr>\n",
       "  </tbody>\n",
       "</table>\n",
       "</div>"
      ],
      "text/plain": [
       "                      PM10  PM2.5  NO   NO2   NOX    CO  SO2   NH3  Ozone  \\\n",
       "from                                                                        \n",
       "2023-02-01 00:00:00   95.0   35.0 NaN  90.1  56.2  0.31  NaN  17.7   28.1   \n",
       "2023-02-01 00:15:00   95.0   35.0 NaN  88.0  55.1  0.33  NaN  18.3   27.1   \n",
       "2023-02-01 00:30:00   95.0   35.0 NaN  87.7  55.2  0.38  NaN  19.7   24.9   \n",
       "2023-02-01 00:45:00  122.0   34.0 NaN  88.9  55.7  0.38  NaN  21.3   21.9   \n",
       "2023-02-01 01:00:00  122.0   34.0 NaN  90.0  55.8  0.38  NaN  22.3   16.7   \n",
       "\n",
       "                     Benzene  \n",
       "from                          \n",
       "2023-02-01 00:00:00      0.4  \n",
       "2023-02-01 00:15:00      0.4  \n",
       "2023-02-01 00:30:00      0.4  \n",
       "2023-02-01 00:45:00      0.4  \n",
       "2023-02-01 01:00:00      0.4  "
      ]
     },
     "execution_count": 6,
     "metadata": {},
     "output_type": "execute_result"
    }
   ],
   "source": [
    "# set datetime \"from\" column as an index column\n",
    "df.set_index('from', inplace=True)\n",
    "df.head()"
   ]
  },
  {
   "cell_type": "code",
   "execution_count": 7,
   "id": "1c2bb12c",
   "metadata": {},
   "outputs": [],
   "source": [
    "df3=df.copy()"
   ]
  },
  {
   "cell_type": "code",
   "execution_count": 8,
   "id": "16ac9ae1",
   "metadata": {},
   "outputs": [],
   "source": [
    "p2=df3['PM10']"
   ]
  },
  {
   "cell_type": "code",
   "execution_count": 9,
   "id": "70ee4b31",
   "metadata": {},
   "outputs": [],
   "source": [
    "# resample\n",
    "df3 = df3.resample('D').mean()\n",
    "# interpolating\n",
    "PM10 = df3['PM10']\n",
    "df3 = df3.interpolate(method='spline',order=3)\n",
    "df3.fillna(method='ffill', inplace=True)  # Fill missing values forward\n",
    "df3.fillna(method='bfill', inplace=True)  # Fill missing values backward"
   ]
  },
  {
   "cell_type": "code",
   "execution_count": 10,
   "id": "2192261f",
   "metadata": {},
   "outputs": [
    {
     "data": {
      "text/html": [
       "<div>\n",
       "<style scoped>\n",
       "    .dataframe tbody tr th:only-of-type {\n",
       "        vertical-align: middle;\n",
       "    }\n",
       "\n",
       "    .dataframe tbody tr th {\n",
       "        vertical-align: top;\n",
       "    }\n",
       "\n",
       "    .dataframe thead th {\n",
       "        text-align: right;\n",
       "    }\n",
       "</style>\n",
       "<table border=\"1\" class=\"dataframe\">\n",
       "  <thead>\n",
       "    <tr style=\"text-align: right;\">\n",
       "      <th></th>\n",
       "      <th>PM10</th>\n",
       "      <th>PM2.5</th>\n",
       "      <th>NO</th>\n",
       "      <th>NO2</th>\n",
       "      <th>NOX</th>\n",
       "      <th>CO</th>\n",
       "      <th>SO2</th>\n",
       "      <th>NH3</th>\n",
       "      <th>Ozone</th>\n",
       "      <th>Benzene</th>\n",
       "    </tr>\n",
       "    <tr>\n",
       "      <th>from</th>\n",
       "      <th></th>\n",
       "      <th></th>\n",
       "      <th></th>\n",
       "      <th></th>\n",
       "      <th></th>\n",
       "      <th></th>\n",
       "      <th></th>\n",
       "      <th></th>\n",
       "      <th></th>\n",
       "      <th></th>\n",
       "    </tr>\n",
       "  </thead>\n",
       "  <tbody>\n",
       "    <tr>\n",
       "      <th>2023-02-01</th>\n",
       "      <td>114.739583</td>\n",
       "      <td>35.145833</td>\n",
       "      <td>10.622222</td>\n",
       "      <td>79.180645</td>\n",
       "      <td>48.821505</td>\n",
       "      <td>0.441183</td>\n",
       "      <td>10.244681</td>\n",
       "      <td>22.080851</td>\n",
       "      <td>30.076744</td>\n",
       "      <td>0.232292</td>\n",
       "    </tr>\n",
       "    <tr>\n",
       "      <th>2023-02-02</th>\n",
       "      <td>177.458333</td>\n",
       "      <td>52.020833</td>\n",
       "      <td>10.622222</td>\n",
       "      <td>79.286957</td>\n",
       "      <td>53.986957</td>\n",
       "      <td>1.303152</td>\n",
       "      <td>10.244681</td>\n",
       "      <td>22.266667</td>\n",
       "      <td>25.331183</td>\n",
       "      <td>0.120000</td>\n",
       "    </tr>\n",
       "    <tr>\n",
       "      <th>2023-02-03</th>\n",
       "      <td>171.270833</td>\n",
       "      <td>52.916667</td>\n",
       "      <td>10.622222</td>\n",
       "      <td>82.408602</td>\n",
       "      <td>56.936559</td>\n",
       "      <td>1.211075</td>\n",
       "      <td>10.244681</td>\n",
       "      <td>23.105319</td>\n",
       "      <td>27.535106</td>\n",
       "      <td>0.165625</td>\n",
       "    </tr>\n",
       "    <tr>\n",
       "      <th>2023-02-04</th>\n",
       "      <td>222.552941</td>\n",
       "      <td>74.651685</td>\n",
       "      <td>10.622222</td>\n",
       "      <td>76.781319</td>\n",
       "      <td>53.721978</td>\n",
       "      <td>1.146222</td>\n",
       "      <td>10.244681</td>\n",
       "      <td>25.094565</td>\n",
       "      <td>26.340659</td>\n",
       "      <td>0.184444</td>\n",
       "    </tr>\n",
       "    <tr>\n",
       "      <th>2023-02-05</th>\n",
       "      <td>271.354430</td>\n",
       "      <td>86.987952</td>\n",
       "      <td>10.622222</td>\n",
       "      <td>74.712048</td>\n",
       "      <td>66.445783</td>\n",
       "      <td>0.890357</td>\n",
       "      <td>10.244681</td>\n",
       "      <td>25.571429</td>\n",
       "      <td>21.824706</td>\n",
       "      <td>0.214286</td>\n",
       "    </tr>\n",
       "  </tbody>\n",
       "</table>\n",
       "</div>"
      ],
      "text/plain": [
       "                  PM10      PM2.5         NO        NO2        NOX        CO  \\\n",
       "from                                                                           \n",
       "2023-02-01  114.739583  35.145833  10.622222  79.180645  48.821505  0.441183   \n",
       "2023-02-02  177.458333  52.020833  10.622222  79.286957  53.986957  1.303152   \n",
       "2023-02-03  171.270833  52.916667  10.622222  82.408602  56.936559  1.211075   \n",
       "2023-02-04  222.552941  74.651685  10.622222  76.781319  53.721978  1.146222   \n",
       "2023-02-05  271.354430  86.987952  10.622222  74.712048  66.445783  0.890357   \n",
       "\n",
       "                  SO2        NH3      Ozone   Benzene  \n",
       "from                                                   \n",
       "2023-02-01  10.244681  22.080851  30.076744  0.232292  \n",
       "2023-02-02  10.244681  22.266667  25.331183  0.120000  \n",
       "2023-02-03  10.244681  23.105319  27.535106  0.165625  \n",
       "2023-02-04  10.244681  25.094565  26.340659  0.184444  \n",
       "2023-02-05  10.244681  25.571429  21.824706  0.214286  "
      ]
     },
     "execution_count": 10,
     "metadata": {},
     "output_type": "execute_result"
    }
   ],
   "source": [
    "df3.head()"
   ]
  },
  {
   "cell_type": "markdown",
   "id": "9d450274",
   "metadata": {},
   "source": [
    "Here we will take some part of our data as training set for ARIMA modelling while the remaing part will be predicted by the model. Then we will compare the actual data and the predicted data."
   ]
  },
  {
   "cell_type": "code",
   "execution_count": 11,
   "id": "05b18d10",
   "metadata": {},
   "outputs": [],
   "source": [
    "t=df3.index[70]\n",
    "# msk = (df.index <= pd.to_datetime(t, format='%y-%m-%d %H:%M:%S'))\n",
    "msk=(df3.index<=t)\n",
    "df_train =df3['PM10'][msk].copy()\n",
    "df_test = df3['PM10'][~msk].copy()"
   ]
  },
  {
   "cell_type": "code",
   "execution_count": 12,
   "id": "48e7f44f",
   "metadata": {},
   "outputs": [
    {
     "data": {
      "text/plain": [
       "Timestamp('2023-04-12 00:00:00', freq='D')"
      ]
     },
     "execution_count": 12,
     "metadata": {},
     "output_type": "execute_result"
    }
   ],
   "source": [
    "t"
   ]
  },
  {
   "cell_type": "code",
   "execution_count": 13,
   "id": "7f2ddf15",
   "metadata": {},
   "outputs": [
    {
     "name": "stdout",
     "output_type": "stream",
     "text": [
      "p-value: 0.004522349467992982\n"
     ]
    }
   ],
   "source": [
    "# just checking code   ADF test to check for stationarity\n",
    "from statsmodels.tsa.stattools import adfuller\n",
    "adf_test = adfuller(df3['PM10'])\n",
    "print(f'p-value: {adf_test[1]}')"
   ]
  },
  {
   "cell_type": "code",
   "execution_count": 14,
   "id": "c5b62c11",
   "metadata": {},
   "outputs": [
    {
     "data": {
      "text/html": [
       "<style>#sk-container-id-1 {color: black;background-color: white;}#sk-container-id-1 pre{padding: 0;}#sk-container-id-1 div.sk-toggleable {background-color: white;}#sk-container-id-1 label.sk-toggleable__label {cursor: pointer;display: block;width: 100%;margin-bottom: 0;padding: 0.3em;box-sizing: border-box;text-align: center;}#sk-container-id-1 label.sk-toggleable__label-arrow:before {content: \"▸\";float: left;margin-right: 0.25em;color: #696969;}#sk-container-id-1 label.sk-toggleable__label-arrow:hover:before {color: black;}#sk-container-id-1 div.sk-estimator:hover label.sk-toggleable__label-arrow:before {color: black;}#sk-container-id-1 div.sk-toggleable__content {max-height: 0;max-width: 0;overflow: hidden;text-align: left;background-color: #f0f8ff;}#sk-container-id-1 div.sk-toggleable__content pre {margin: 0.2em;color: black;border-radius: 0.25em;background-color: #f0f8ff;}#sk-container-id-1 input.sk-toggleable__control:checked~div.sk-toggleable__content {max-height: 200px;max-width: 100%;overflow: auto;}#sk-container-id-1 input.sk-toggleable__control:checked~label.sk-toggleable__label-arrow:before {content: \"▾\";}#sk-container-id-1 div.sk-estimator input.sk-toggleable__control:checked~label.sk-toggleable__label {background-color: #d4ebff;}#sk-container-id-1 div.sk-label input.sk-toggleable__control:checked~label.sk-toggleable__label {background-color: #d4ebff;}#sk-container-id-1 input.sk-hidden--visually {border: 0;clip: rect(1px 1px 1px 1px);clip: rect(1px, 1px, 1px, 1px);height: 1px;margin: -1px;overflow: hidden;padding: 0;position: absolute;width: 1px;}#sk-container-id-1 div.sk-estimator {font-family: monospace;background-color: #f0f8ff;border: 1px dotted black;border-radius: 0.25em;box-sizing: border-box;margin-bottom: 0.5em;}#sk-container-id-1 div.sk-estimator:hover {background-color: #d4ebff;}#sk-container-id-1 div.sk-parallel-item::after {content: \"\";width: 100%;border-bottom: 1px solid gray;flex-grow: 1;}#sk-container-id-1 div.sk-label:hover label.sk-toggleable__label {background-color: #d4ebff;}#sk-container-id-1 div.sk-serial::before {content: \"\";position: absolute;border-left: 1px solid gray;box-sizing: border-box;top: 0;bottom: 0;left: 50%;z-index: 0;}#sk-container-id-1 div.sk-serial {display: flex;flex-direction: column;align-items: center;background-color: white;padding-right: 0.2em;padding-left: 0.2em;position: relative;}#sk-container-id-1 div.sk-item {position: relative;z-index: 1;}#sk-container-id-1 div.sk-parallel {display: flex;align-items: stretch;justify-content: center;background-color: white;position: relative;}#sk-container-id-1 div.sk-item::before, #sk-container-id-1 div.sk-parallel-item::before {content: \"\";position: absolute;border-left: 1px solid gray;box-sizing: border-box;top: 0;bottom: 0;left: 50%;z-index: -1;}#sk-container-id-1 div.sk-parallel-item {display: flex;flex-direction: column;z-index: 1;position: relative;background-color: white;}#sk-container-id-1 div.sk-parallel-item:first-child::after {align-self: flex-end;width: 50%;}#sk-container-id-1 div.sk-parallel-item:last-child::after {align-self: flex-start;width: 50%;}#sk-container-id-1 div.sk-parallel-item:only-child::after {width: 0;}#sk-container-id-1 div.sk-dashed-wrapped {border: 1px dashed gray;margin: 0 0.4em 0.5em 0.4em;box-sizing: border-box;padding-bottom: 0.4em;background-color: white;}#sk-container-id-1 div.sk-label label {font-family: monospace;font-weight: bold;display: inline-block;line-height: 1.2em;}#sk-container-id-1 div.sk-label-container {text-align: center;}#sk-container-id-1 div.sk-container {/* jupyter's `normalize.less` sets `[hidden] { display: none; }` but bootstrap.min.css set `[hidden] { display: none !important; }` so we also need the `!important` here to be able to override the default hidden behavior on the sphinx rendered scikit-learn.org. See: https://github.com/scikit-learn/scikit-learn/issues/21755 */display: inline-block !important;position: relative;}#sk-container-id-1 div.sk-text-repr-fallback {display: none;}</style><div id=\"sk-container-id-1\" class=\"sk-top-container\"><div class=\"sk-text-repr-fallback\"><pre> ARIMA(1,0,2)(0,0,0)[0]          </pre><b>In a Jupyter environment, please rerun this cell to show the HTML representation or trust the notebook. <br />On GitHub, the HTML representation is unable to render, please try loading this page with nbviewer.org.</b></div><div class=\"sk-container\" hidden><div class=\"sk-item\"><div class=\"sk-estimator sk-toggleable\"><input class=\"sk-toggleable__control sk-hidden--visually\" id=\"sk-estimator-id-1\" type=\"checkbox\" checked><label for=\"sk-estimator-id-1\" class=\"sk-toggleable__label sk-toggleable__label-arrow\">ARIMA</label><div class=\"sk-toggleable__content\"><pre> ARIMA(1,0,2)(0,0,0)[0]          </pre></div></div></div></div></div>"
      ],
      "text/plain": [
       "ARIMA(order=(1, 0, 2), scoring_args={}, suppress_warnings=True,\n",
       "      with_intercept=False)"
      ]
     },
     "execution_count": 14,
     "metadata": {},
     "output_type": "execute_result"
    }
   ],
   "source": [
    "import pmdarima as pm\n",
    "auto_arima = pm.auto_arima(df_train, stepwise=False, seasonal=False)\n",
    "auto_arima"
   ]
  },
  {
   "cell_type": "code",
   "execution_count": 15,
   "id": "2281017a",
   "metadata": {},
   "outputs": [
    {
     "data": {
      "text/html": [
       "<table class=\"simpletable\">\n",
       "<caption>SARIMAX Results</caption>\n",
       "<tr>\n",
       "  <th>Dep. Variable:</th>           <td>y</td>        <th>  No. Observations:  </th>    <td>71</td>   \n",
       "</tr>\n",
       "<tr>\n",
       "  <th>Model:</th>           <td>SARIMAX(1, 0, 2)</td> <th>  Log Likelihood     </th> <td>-409.341</td>\n",
       "</tr>\n",
       "<tr>\n",
       "  <th>Date:</th>            <td>Sun, 25 Jun 2023</td> <th>  AIC                </th>  <td>826.682</td>\n",
       "</tr>\n",
       "<tr>\n",
       "  <th>Time:</th>                <td>19:44:37</td>     <th>  BIC                </th>  <td>835.733</td>\n",
       "</tr>\n",
       "<tr>\n",
       "  <th>Sample:</th>             <td>02-01-2023</td>    <th>  HQIC               </th>  <td>830.282</td>\n",
       "</tr>\n",
       "<tr>\n",
       "  <th></th>                   <td>- 04-12-2023</td>   <th>                     </th>     <td> </td>   \n",
       "</tr>\n",
       "<tr>\n",
       "  <th>Covariance Type:</th>        <td>opg</td>       <th>                     </th>     <td> </td>   \n",
       "</tr>\n",
       "</table>\n",
       "<table class=\"simpletable\">\n",
       "<tr>\n",
       "     <td></td>       <th>coef</th>     <th>std err</th>      <th>z</th>      <th>P>|z|</th>  <th>[0.025</th>    <th>0.975]</th>  \n",
       "</tr>\n",
       "<tr>\n",
       "  <th>ar.L1</th>  <td>    0.9702</td> <td>    0.029</td> <td>   33.392</td> <td> 0.000</td> <td>    0.913</td> <td>    1.027</td>\n",
       "</tr>\n",
       "<tr>\n",
       "  <th>ma.L1</th>  <td>   -0.0254</td> <td>    0.089</td> <td>   -0.285</td> <td> 0.776</td> <td>   -0.200</td> <td>    0.149</td>\n",
       "</tr>\n",
       "<tr>\n",
       "  <th>ma.L2</th>  <td>   -0.3680</td> <td>    0.095</td> <td>   -3.882</td> <td> 0.000</td> <td>   -0.554</td> <td>   -0.182</td>\n",
       "</tr>\n",
       "<tr>\n",
       "  <th>sigma2</th> <td> 5778.4197</td> <td>  628.213</td> <td>    9.198</td> <td> 0.000</td> <td> 4547.144</td> <td> 7009.695</td>\n",
       "</tr>\n",
       "</table>\n",
       "<table class=\"simpletable\">\n",
       "<tr>\n",
       "  <th>Ljung-Box (L1) (Q):</th>     <td>0.08</td> <th>  Jarque-Bera (JB):  </th> <td>27.84</td>\n",
       "</tr>\n",
       "<tr>\n",
       "  <th>Prob(Q):</th>                <td>0.77</td> <th>  Prob(JB):          </th> <td>0.00</td> \n",
       "</tr>\n",
       "<tr>\n",
       "  <th>Heteroskedasticity (H):</th> <td>0.84</td> <th>  Skew:              </th> <td>0.21</td> \n",
       "</tr>\n",
       "<tr>\n",
       "  <th>Prob(H) (two-sided):</th>    <td>0.67</td> <th>  Kurtosis:          </th> <td>6.04</td> \n",
       "</tr>\n",
       "</table><br/><br/>Warnings:<br/>[1] Covariance matrix calculated using the outer product of gradients (complex-step)."
      ],
      "text/plain": [
       "<class 'statsmodels.iolib.summary.Summary'>\n",
       "\"\"\"\n",
       "                               SARIMAX Results                                \n",
       "==============================================================================\n",
       "Dep. Variable:                      y   No. Observations:                   71\n",
       "Model:               SARIMAX(1, 0, 2)   Log Likelihood                -409.341\n",
       "Date:                Sun, 25 Jun 2023   AIC                            826.682\n",
       "Time:                        19:44:37   BIC                            835.733\n",
       "Sample:                    02-01-2023   HQIC                           830.282\n",
       "                         - 04-12-2023                                         \n",
       "Covariance Type:                  opg                                         \n",
       "==============================================================================\n",
       "                 coef    std err          z      P>|z|      [0.025      0.975]\n",
       "------------------------------------------------------------------------------\n",
       "ar.L1          0.9702      0.029     33.392      0.000       0.913       1.027\n",
       "ma.L1         -0.0254      0.089     -0.285      0.776      -0.200       0.149\n",
       "ma.L2         -0.3680      0.095     -3.882      0.000      -0.554      -0.182\n",
       "sigma2      5778.4197    628.213      9.198      0.000    4547.144    7009.695\n",
       "===================================================================================\n",
       "Ljung-Box (L1) (Q):                   0.08   Jarque-Bera (JB):                27.84\n",
       "Prob(Q):                              0.77   Prob(JB):                         0.00\n",
       "Heteroskedasticity (H):               0.84   Skew:                             0.21\n",
       "Prob(H) (two-sided):                  0.67   Kurtosis:                         6.04\n",
       "===================================================================================\n",
       "\n",
       "Warnings:\n",
       "[1] Covariance matrix calculated using the outer product of gradients (complex-step).\n",
       "\"\"\""
      ]
     },
     "execution_count": 15,
     "metadata": {},
     "output_type": "execute_result"
    }
   ],
   "source": [
    "auto_arima.summary()"
   ]
  },
  {
   "cell_type": "code",
   "execution_count": 16,
   "id": "b2d6e5ae",
   "metadata": {},
   "outputs": [
    {
     "data": {
      "image/png": "[encoded data removed]",
      "text/plain": [
       "<Figure size 640x480 with 1 Axes>"
      ]
     },
     "metadata": {},
     "output_type": "display_data"
    }
   ],
   "source": [
    "forecast_test_auto = auto_arima.predict(n_periods=len(df_test))\n",
    "df3['forecast_auto'] = [None]*len(df_train) + list(forecast_test_auto)\n",
    "\n",
    "columns_to_plot = ['PM10', 'forecast_auto']\n",
    "%matplotlib inline\n",
    "data_to_plot = df3[columns_to_plot]\n",
    "\n",
    "data_to_plot.plot()\n",
    "plt.title('ARIMA')\n",
    "plt.show()"
   ]
  },
  {
   "cell_type": "markdown",
   "id": "eef1c1b1",
   "metadata": {},
   "source": [
    "In the above plot forecast_auto is the prediction by ARIMA model.\n",
    "Here we can observe that resampled data provides better forecasting than one without it.\n",
    "\n",
    "Finally we will calculate error of prediction and actual data."
   ]
  },
  {
   "cell_type": "code",
   "execution_count": 17,
   "id": "d1e389e4",
   "metadata": {},
   "outputs": [
    {
     "name": "stdout",
     "output_type": "stream",
     "text": [
      "mae - auto: 53.009429041707186\n",
      "mape - auto: 0.44952142020881874\n",
      "rmse - auto: 72.07877893064887\n"
     ]
    }
   ],
   "source": [
    "from sklearn.metrics import mean_absolute_error, mean_absolute_percentage_error, mean_squared_error\n",
    "\n",
    "mae = mean_absolute_error(df_test, forecast_test_auto)\n",
    "mape = mean_absolute_percentage_error(df_test, forecast_test_auto)\n",
    "rmse = np.sqrt(mean_squared_error(df_test, forecast_test_auto))\n",
    "\n",
    "print(f'mae - auto: {mae}')\n",
    "print(f'mape - auto: {mape}')\n",
    "print(f'rmse - auto: {rmse}')"
   ]
  },
  {
   "cell_type": "code",
   "execution_count": null,
   "id": "c8e5f9c2",
   "metadata": {},
   "outputs": [],
   "source": []
  }
 ],
 "metadata": {
  "kernelspec": {
   "display_name": "Python 3 (ipykernel)",
   "language": "python",
   "name": "python3"
  },
  "language_info": {
   "codemirror_mode": {
    "name": "ipython",
    "version": 3
   },
   "file_extension": ".py",
   "mimetype": "text/x-python",
   "name": "python",
   "nbconvert_exporter": "python",
   "pygments_lexer": "ipython3",
   "version": "3.10.9"
  }
 },
 "nbformat": 4,
 "nbformat_minor": 5
}
